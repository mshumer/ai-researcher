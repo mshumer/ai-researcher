{
  "nbformat": 4,
  "nbformat_minor": 0,
  "metadata": {
    "colab": {
      "provenance": [],
      "authorship_tag": "ABX9TyMgsSsaOIlcHUzV9jGj8eLo",
      "include_colab_link": true
    },
    "kernelspec": {
      "name": "python3",
      "display_name": "Python 3"
    },
    "language_info": {
      "name": "python"
    }
  },
  "cells": [
    {
      "cell_type": "markdown",
      "metadata": {
        "id": "view-in-github",
        "colab_type": "text"
      },
      "source": [
        "<a href=\"https://colab.research.google.com/github/mshumer/ai-researcher/blob/main/Gemini_Youtube_Researcher.ipynb\" target=\"_parent\"><img src=\"https://colab.research.google.com/assets/colab-badge.svg\" alt=\"Open In Colab\"/></a>"
      ]
    },
    {
      "cell_type": "code",
      "source": [
        "!pip install -q -U google-generativeai\n",
        "!pip install pytube\n",
        "!pip install serpapi\n",
        "\n",
        "import google.generativeai as genai\n",
        "from google.colab import userdata\n",
        "from pytube import YouTube\n",
        "import os\n",
        "import requests\n",
        "\n",
        "SERP_API_KEY = \"YOUR API KEY\"  # Replace with your SERP API key\n",
        "GOOGLE_API_KEY = \"YOUR API KEY\" # Replace with your Google API key\n",
        "\n",
        "genai.configure(api_key=GOOGLE_API_KEY)"
      ],
      "metadata": {
        "id": "uZZxOxfINZOq"
      },
      "execution_count": null,
      "outputs": []
    },
    {
      "cell_type": "code",
      "source": [
        "def search_youtube_videos(search_term):\n",
        "    params = {\n",
        "      \"api_key\": SERP_API_KEY,\n",
        "      \"engine\": \"youtube\",\n",
        "      \"search_query\": search_term,\n",
        "\n",
        "    }\n",
        "    response = requests.get(\"https://serpapi.com/search\", params=params)\n",
        "    results = response.json()\n",
        "    video_results = results.get('video_results', [])[:5]\n",
        "    video_links = [result['link'] for result in video_results]\n",
        "    return video_links\n",
        "\n",
        "def download_audio(video_url):\n",
        "    yt = YouTube(video_url)\n",
        "    audio_stream = yt.streams.filter(only_audio=True).first()\n",
        "    audio_file = \"audio.mp3\"\n",
        "    audio_stream.download(filename=audio_file)\n",
        "    return audio_file\n",
        "\n",
        "def summarize_video(audio_file):\n",
        "    your_file = genai.upload_file(audio_file)\n",
        "    prompt = f\"Listen carefully to the following audio file and provide a detailed summary of the content.\"\n",
        "    model = genai.GenerativeModel('models/gemini-1.5-pro-latest')\n",
        "    response = model.generate_content([prompt, your_file])\n",
        "    return response.text\n",
        "\n",
        "def generate_report(summaries):\n",
        "    prompt = f\"Given the following video summaries:\\n\\n{summaries}\\n\\nGenerate a comprehensive report that combines the information from all the summaries. The report should be well-structured and cover the main points discussed in the videos.\"\n",
        "    model = genai.GenerativeModel('models/gemini-1.5-pro-latest')\n",
        "    response = model.generate_content(prompt)\n",
        "    return response.text\n",
        "\n",
        "def main():\n",
        "    topic = input(\"Enter the overall topic: \")\n",
        "    video_results = search_youtube_videos(topic)\n",
        "\n",
        "    summaries = []\n",
        "    for video in video_results:\n",
        "        print(video)\n",
        "        audio_file = download_audio(video)\n",
        "        summary = summarize_video(audio_file)\n",
        "        summaries.append(summary)\n",
        "        os.remove(audio_file)  # Remove the downloaded audio file\n",
        "\n",
        "    report = generate_report('\\n\\n'.join(summaries))\n",
        "    print(\"Final Report:\")\n",
        "    print(report)\n",
        "\n",
        "main()"
      ],
      "metadata": {
        "id": "EShXI5RNSLkP"
      },
      "execution_count": null,
      "outputs": []
    }
  ]
}